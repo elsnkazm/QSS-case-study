{
 "cells": [
  {
   "cell_type": "markdown",
   "metadata": {},
   "source": [
    "### 1.Import numpy and pandas and load data file named 'test_Y3wMUE5_7gLdaTN.csv' as test\n",
    "\n"
   ]
  },
  {
   "cell_type": "code",
   "execution_count": 1,
   "metadata": {},
   "outputs": [],
   "source": [
    "import numpy as np\n",
    "import pandas as pd\n",
    "df=pd.DataFrame(pd.read_csv('test_Y3wMUE5_7gLdaTN.csv'))"
   ]
  },
  {
   "cell_type": "markdown",
   "metadata": {},
   "source": [
    "### 2.Print list of column names\n"
   ]
  },
  {
   "cell_type": "code",
   "execution_count": 17,
   "metadata": {},
   "outputs": [
    {
     "data": {
      "text/plain": [
       "Index(['Loan_ID', 'Gender', 'Married', 'Dependents', 'Education',\n",
       "       'Self_Employed', 'ApplicantIncome', 'CoapplicantIncome', 'LoanAmount',\n",
       "       'Loan_Amount_Term', 'Credit_History', 'Property_Area'],\n",
       "      dtype='object')"
      ]
     },
     "execution_count": 17,
     "metadata": {},
     "output_type": "execute_result"
    }
   ],
   "source": [
    "df.columns"
   ]
  },
  {
   "cell_type": "code",
   "execution_count": 18,
   "metadata": {},
   "outputs": [
    {
     "data": {
      "text/html": [
       "<div>\n",
       "<style scoped>\n",
       "    .dataframe tbody tr th:only-of-type {\n",
       "        vertical-align: middle;\n",
       "    }\n",
       "\n",
       "    .dataframe tbody tr th {\n",
       "        vertical-align: top;\n",
       "    }\n",
       "\n",
       "    .dataframe thead th {\n",
       "        text-align: right;\n",
       "    }\n",
       "</style>\n",
       "<table border=\"1\" class=\"dataframe\">\n",
       "  <thead>\n",
       "    <tr style=\"text-align: right;\">\n",
       "      <th></th>\n",
       "      <th>Loan_ID</th>\n",
       "      <th>Gender</th>\n",
       "      <th>Married</th>\n",
       "      <th>Dependents</th>\n",
       "      <th>Education</th>\n",
       "      <th>Self_Employed</th>\n",
       "      <th>ApplicantIncome</th>\n",
       "      <th>CoapplicantIncome</th>\n",
       "      <th>LoanAmount</th>\n",
       "      <th>Loan_Amount_Term</th>\n",
       "      <th>Credit_History</th>\n",
       "      <th>Property_Area</th>\n",
       "    </tr>\n",
       "  </thead>\n",
       "  <tbody>\n",
       "    <tr>\n",
       "      <th>0</th>\n",
       "      <td>LP001015</td>\n",
       "      <td>Male</td>\n",
       "      <td>Yes</td>\n",
       "      <td>0</td>\n",
       "      <td>Graduate</td>\n",
       "      <td>No</td>\n",
       "      <td>5720</td>\n",
       "      <td>0</td>\n",
       "      <td>110.0</td>\n",
       "      <td>360.0</td>\n",
       "      <td>1.000000</td>\n",
       "      <td>Urban</td>\n",
       "    </tr>\n",
       "    <tr>\n",
       "      <th>1</th>\n",
       "      <td>LP001022</td>\n",
       "      <td>Male</td>\n",
       "      <td>Yes</td>\n",
       "      <td>1</td>\n",
       "      <td>Graduate</td>\n",
       "      <td>No</td>\n",
       "      <td>3076</td>\n",
       "      <td>1500</td>\n",
       "      <td>126.0</td>\n",
       "      <td>360.0</td>\n",
       "      <td>1.000000</td>\n",
       "      <td>Urban</td>\n",
       "    </tr>\n",
       "    <tr>\n",
       "      <th>2</th>\n",
       "      <td>LP001031</td>\n",
       "      <td>Male</td>\n",
       "      <td>Yes</td>\n",
       "      <td>2</td>\n",
       "      <td>Graduate</td>\n",
       "      <td>No</td>\n",
       "      <td>5000</td>\n",
       "      <td>1800</td>\n",
       "      <td>208.0</td>\n",
       "      <td>360.0</td>\n",
       "      <td>1.000000</td>\n",
       "      <td>Urban</td>\n",
       "    </tr>\n",
       "    <tr>\n",
       "      <th>3</th>\n",
       "      <td>LP001035</td>\n",
       "      <td>Male</td>\n",
       "      <td>Yes</td>\n",
       "      <td>2</td>\n",
       "      <td>Graduate</td>\n",
       "      <td>No</td>\n",
       "      <td>2340</td>\n",
       "      <td>2546</td>\n",
       "      <td>100.0</td>\n",
       "      <td>360.0</td>\n",
       "      <td>0.825444</td>\n",
       "      <td>Urban</td>\n",
       "    </tr>\n",
       "    <tr>\n",
       "      <th>4</th>\n",
       "      <td>LP001051</td>\n",
       "      <td>Male</td>\n",
       "      <td>No</td>\n",
       "      <td>0</td>\n",
       "      <td>Not Graduate</td>\n",
       "      <td>No</td>\n",
       "      <td>3276</td>\n",
       "      <td>0</td>\n",
       "      <td>78.0</td>\n",
       "      <td>360.0</td>\n",
       "      <td>1.000000</td>\n",
       "      <td>Urban</td>\n",
       "    </tr>\n",
       "  </tbody>\n",
       "</table>\n",
       "</div>"
      ],
      "text/plain": [
       "    Loan_ID Gender Married Dependents     Education Self_Employed  \\\n",
       "0  LP001015   Male     Yes          0      Graduate            No   \n",
       "1  LP001022   Male     Yes          1      Graduate            No   \n",
       "2  LP001031   Male     Yes          2      Graduate            No   \n",
       "3  LP001035   Male     Yes          2      Graduate            No   \n",
       "4  LP001051   Male      No          0  Not Graduate            No   \n",
       "\n",
       "   ApplicantIncome  CoapplicantIncome  LoanAmount  Loan_Amount_Term  \\\n",
       "0             5720                  0       110.0             360.0   \n",
       "1             3076               1500       126.0             360.0   \n",
       "2             5000               1800       208.0             360.0   \n",
       "3             2340               2546       100.0             360.0   \n",
       "4             3276                  0        78.0             360.0   \n",
       "\n",
       "   Credit_History Property_Area  \n",
       "0        1.000000         Urban  \n",
       "1        1.000000         Urban  \n",
       "2        1.000000         Urban  \n",
       "3        0.825444         Urban  \n",
       "4        1.000000         Urban  "
      ]
     },
     "execution_count": 18,
     "metadata": {},
     "output_type": "execute_result"
    }
   ],
   "source": [
    "df.head()"
   ]
  },
  {
   "cell_type": "markdown",
   "metadata": {},
   "source": [
    "### 3.Types of data columns\n"
   ]
  },
  {
   "cell_type": "code",
   "execution_count": 19,
   "metadata": {},
   "outputs": [
    {
     "data": {
      "text/plain": [
       "Loan_ID               object\n",
       "Gender                object\n",
       "Married               object\n",
       "Dependents            object\n",
       "Education             object\n",
       "Self_Employed         object\n",
       "ApplicantIncome        int64\n",
       "CoapplicantIncome      int64\n",
       "LoanAmount           float64\n",
       "Loan_Amount_Term     float64\n",
       "Credit_History       float64\n",
       "Property_Area         object\n",
       "dtype: object"
      ]
     },
     "execution_count": 19,
     "metadata": {},
     "output_type": "execute_result"
    }
   ],
   "source": [
    "df.dtypes"
   ]
  },
  {
   "cell_type": "markdown",
   "metadata": {},
   "source": [
    "### 4.Summary statistics\n"
   ]
  },
  {
   "cell_type": "code",
   "execution_count": 20,
   "metadata": {},
   "outputs": [
    {
     "data": {
      "text/html": [
       "<div>\n",
       "<style scoped>\n",
       "    .dataframe tbody tr th:only-of-type {\n",
       "        vertical-align: middle;\n",
       "    }\n",
       "\n",
       "    .dataframe tbody tr th {\n",
       "        vertical-align: top;\n",
       "    }\n",
       "\n",
       "    .dataframe thead th {\n",
       "        text-align: right;\n",
       "    }\n",
       "</style>\n",
       "<table border=\"1\" class=\"dataframe\">\n",
       "  <thead>\n",
       "    <tr style=\"text-align: right;\">\n",
       "      <th></th>\n",
       "      <th>ApplicantIncome</th>\n",
       "      <th>CoapplicantIncome</th>\n",
       "      <th>LoanAmount</th>\n",
       "      <th>Loan_Amount_Term</th>\n",
       "      <th>Credit_History</th>\n",
       "    </tr>\n",
       "  </thead>\n",
       "  <tbody>\n",
       "    <tr>\n",
       "      <th>count</th>\n",
       "      <td>367.000000</td>\n",
       "      <td>367.000000</td>\n",
       "      <td>367.000000</td>\n",
       "      <td>367.000000</td>\n",
       "      <td>367.000000</td>\n",
       "    </tr>\n",
       "    <tr>\n",
       "      <th>mean</th>\n",
       "      <td>4805.599455</td>\n",
       "      <td>1569.577657</td>\n",
       "      <td>136.132597</td>\n",
       "      <td>342.537396</td>\n",
       "      <td>0.825444</td>\n",
       "    </tr>\n",
       "    <tr>\n",
       "      <th>std</th>\n",
       "      <td>4910.685399</td>\n",
       "      <td>2334.232099</td>\n",
       "      <td>60.946040</td>\n",
       "      <td>64.620366</td>\n",
       "      <td>0.364778</td>\n",
       "    </tr>\n",
       "    <tr>\n",
       "      <th>min</th>\n",
       "      <td>0.000000</td>\n",
       "      <td>0.000000</td>\n",
       "      <td>28.000000</td>\n",
       "      <td>6.000000</td>\n",
       "      <td>0.000000</td>\n",
       "    </tr>\n",
       "    <tr>\n",
       "      <th>25%</th>\n",
       "      <td>2864.000000</td>\n",
       "      <td>0.000000</td>\n",
       "      <td>101.000000</td>\n",
       "      <td>360.000000</td>\n",
       "      <td>1.000000</td>\n",
       "    </tr>\n",
       "    <tr>\n",
       "      <th>50%</th>\n",
       "      <td>3786.000000</td>\n",
       "      <td>1025.000000</td>\n",
       "      <td>126.000000</td>\n",
       "      <td>360.000000</td>\n",
       "      <td>1.000000</td>\n",
       "    </tr>\n",
       "    <tr>\n",
       "      <th>75%</th>\n",
       "      <td>5060.000000</td>\n",
       "      <td>2430.500000</td>\n",
       "      <td>157.500000</td>\n",
       "      <td>360.000000</td>\n",
       "      <td>1.000000</td>\n",
       "    </tr>\n",
       "    <tr>\n",
       "      <th>max</th>\n",
       "      <td>72529.000000</td>\n",
       "      <td>24000.000000</td>\n",
       "      <td>550.000000</td>\n",
       "      <td>480.000000</td>\n",
       "      <td>1.000000</td>\n",
       "    </tr>\n",
       "  </tbody>\n",
       "</table>\n",
       "</div>"
      ],
      "text/plain": [
       "       ApplicantIncome  CoapplicantIncome  LoanAmount  Loan_Amount_Term  \\\n",
       "count       367.000000         367.000000  367.000000        367.000000   \n",
       "mean       4805.599455        1569.577657  136.132597        342.537396   \n",
       "std        4910.685399        2334.232099   60.946040         64.620366   \n",
       "min           0.000000           0.000000   28.000000          6.000000   \n",
       "25%        2864.000000           0.000000  101.000000        360.000000   \n",
       "50%        3786.000000        1025.000000  126.000000        360.000000   \n",
       "75%        5060.000000        2430.500000  157.500000        360.000000   \n",
       "max       72529.000000       24000.000000  550.000000        480.000000   \n",
       "\n",
       "       Credit_History  \n",
       "count      367.000000  \n",
       "mean         0.825444  \n",
       "std          0.364778  \n",
       "min          0.000000  \n",
       "25%          1.000000  \n",
       "50%          1.000000  \n",
       "75%          1.000000  \n",
       "max          1.000000  "
      ]
     },
     "execution_count": 20,
     "metadata": {},
     "output_type": "execute_result"
    }
   ],
   "source": [
    "df.describe()"
   ]
  },
  {
   "cell_type": "markdown",
   "metadata": {},
   "source": [
    "### DATA CLEANING AND PREPROCESSING"
   ]
  },
  {
   "cell_type": "markdown",
   "metadata": {},
   "source": [
    "### 5.Find missing values"
   ]
  },
  {
   "cell_type": "code",
   "execution_count": 21,
   "metadata": {},
   "outputs": [
    {
     "data": {
      "text/html": [
       "<div>\n",
       "<style scoped>\n",
       "    .dataframe tbody tr th:only-of-type {\n",
       "        vertical-align: middle;\n",
       "    }\n",
       "\n",
       "    .dataframe tbody tr th {\n",
       "        vertical-align: top;\n",
       "    }\n",
       "\n",
       "    .dataframe thead th {\n",
       "        text-align: right;\n",
       "    }\n",
       "</style>\n",
       "<table border=\"1\" class=\"dataframe\">\n",
       "  <thead>\n",
       "    <tr style=\"text-align: right;\">\n",
       "      <th></th>\n",
       "      <th>Loan_ID</th>\n",
       "      <th>Gender</th>\n",
       "      <th>Married</th>\n",
       "      <th>Dependents</th>\n",
       "      <th>Education</th>\n",
       "      <th>Self_Employed</th>\n",
       "      <th>ApplicantIncome</th>\n",
       "      <th>CoapplicantIncome</th>\n",
       "      <th>LoanAmount</th>\n",
       "      <th>Loan_Amount_Term</th>\n",
       "      <th>Credit_History</th>\n",
       "      <th>Property_Area</th>\n",
       "    </tr>\n",
       "  </thead>\n",
       "  <tbody>\n",
       "    <tr>\n",
       "      <th>0</th>\n",
       "      <td>False</td>\n",
       "      <td>False</td>\n",
       "      <td>False</td>\n",
       "      <td>False</td>\n",
       "      <td>False</td>\n",
       "      <td>False</td>\n",
       "      <td>False</td>\n",
       "      <td>False</td>\n",
       "      <td>False</td>\n",
       "      <td>False</td>\n",
       "      <td>False</td>\n",
       "      <td>False</td>\n",
       "    </tr>\n",
       "    <tr>\n",
       "      <th>1</th>\n",
       "      <td>False</td>\n",
       "      <td>False</td>\n",
       "      <td>False</td>\n",
       "      <td>False</td>\n",
       "      <td>False</td>\n",
       "      <td>False</td>\n",
       "      <td>False</td>\n",
       "      <td>False</td>\n",
       "      <td>False</td>\n",
       "      <td>False</td>\n",
       "      <td>False</td>\n",
       "      <td>False</td>\n",
       "    </tr>\n",
       "    <tr>\n",
       "      <th>2</th>\n",
       "      <td>False</td>\n",
       "      <td>False</td>\n",
       "      <td>False</td>\n",
       "      <td>False</td>\n",
       "      <td>False</td>\n",
       "      <td>False</td>\n",
       "      <td>False</td>\n",
       "      <td>False</td>\n",
       "      <td>False</td>\n",
       "      <td>False</td>\n",
       "      <td>False</td>\n",
       "      <td>False</td>\n",
       "    </tr>\n",
       "    <tr>\n",
       "      <th>3</th>\n",
       "      <td>False</td>\n",
       "      <td>False</td>\n",
       "      <td>False</td>\n",
       "      <td>False</td>\n",
       "      <td>False</td>\n",
       "      <td>False</td>\n",
       "      <td>False</td>\n",
       "      <td>False</td>\n",
       "      <td>False</td>\n",
       "      <td>False</td>\n",
       "      <td>False</td>\n",
       "      <td>False</td>\n",
       "    </tr>\n",
       "    <tr>\n",
       "      <th>4</th>\n",
       "      <td>False</td>\n",
       "      <td>False</td>\n",
       "      <td>False</td>\n",
       "      <td>False</td>\n",
       "      <td>False</td>\n",
       "      <td>False</td>\n",
       "      <td>False</td>\n",
       "      <td>False</td>\n",
       "      <td>False</td>\n",
       "      <td>False</td>\n",
       "      <td>False</td>\n",
       "      <td>False</td>\n",
       "    </tr>\n",
       "    <tr>\n",
       "      <th>...</th>\n",
       "      <td>...</td>\n",
       "      <td>...</td>\n",
       "      <td>...</td>\n",
       "      <td>...</td>\n",
       "      <td>...</td>\n",
       "      <td>...</td>\n",
       "      <td>...</td>\n",
       "      <td>...</td>\n",
       "      <td>...</td>\n",
       "      <td>...</td>\n",
       "      <td>...</td>\n",
       "      <td>...</td>\n",
       "    </tr>\n",
       "    <tr>\n",
       "      <th>362</th>\n",
       "      <td>False</td>\n",
       "      <td>False</td>\n",
       "      <td>False</td>\n",
       "      <td>False</td>\n",
       "      <td>False</td>\n",
       "      <td>False</td>\n",
       "      <td>False</td>\n",
       "      <td>False</td>\n",
       "      <td>False</td>\n",
       "      <td>False</td>\n",
       "      <td>False</td>\n",
       "      <td>False</td>\n",
       "    </tr>\n",
       "    <tr>\n",
       "      <th>363</th>\n",
       "      <td>False</td>\n",
       "      <td>False</td>\n",
       "      <td>False</td>\n",
       "      <td>False</td>\n",
       "      <td>False</td>\n",
       "      <td>False</td>\n",
       "      <td>False</td>\n",
       "      <td>False</td>\n",
       "      <td>False</td>\n",
       "      <td>False</td>\n",
       "      <td>False</td>\n",
       "      <td>False</td>\n",
       "    </tr>\n",
       "    <tr>\n",
       "      <th>364</th>\n",
       "      <td>False</td>\n",
       "      <td>False</td>\n",
       "      <td>False</td>\n",
       "      <td>False</td>\n",
       "      <td>False</td>\n",
       "      <td>False</td>\n",
       "      <td>False</td>\n",
       "      <td>False</td>\n",
       "      <td>False</td>\n",
       "      <td>False</td>\n",
       "      <td>False</td>\n",
       "      <td>False</td>\n",
       "    </tr>\n",
       "    <tr>\n",
       "      <th>365</th>\n",
       "      <td>False</td>\n",
       "      <td>False</td>\n",
       "      <td>False</td>\n",
       "      <td>False</td>\n",
       "      <td>False</td>\n",
       "      <td>False</td>\n",
       "      <td>False</td>\n",
       "      <td>False</td>\n",
       "      <td>False</td>\n",
       "      <td>False</td>\n",
       "      <td>False</td>\n",
       "      <td>False</td>\n",
       "    </tr>\n",
       "    <tr>\n",
       "      <th>366</th>\n",
       "      <td>False</td>\n",
       "      <td>False</td>\n",
       "      <td>False</td>\n",
       "      <td>False</td>\n",
       "      <td>False</td>\n",
       "      <td>False</td>\n",
       "      <td>False</td>\n",
       "      <td>False</td>\n",
       "      <td>False</td>\n",
       "      <td>False</td>\n",
       "      <td>False</td>\n",
       "      <td>False</td>\n",
       "    </tr>\n",
       "  </tbody>\n",
       "</table>\n",
       "<p>367 rows × 12 columns</p>\n",
       "</div>"
      ],
      "text/plain": [
       "     Loan_ID  Gender  Married  Dependents  Education  Self_Employed  \\\n",
       "0      False   False    False       False      False          False   \n",
       "1      False   False    False       False      False          False   \n",
       "2      False   False    False       False      False          False   \n",
       "3      False   False    False       False      False          False   \n",
       "4      False   False    False       False      False          False   \n",
       "..       ...     ...      ...         ...        ...            ...   \n",
       "362    False   False    False       False      False          False   \n",
       "363    False   False    False       False      False          False   \n",
       "364    False   False    False       False      False          False   \n",
       "365    False   False    False       False      False          False   \n",
       "366    False   False    False       False      False          False   \n",
       "\n",
       "     ApplicantIncome  CoapplicantIncome  LoanAmount  Loan_Amount_Term  \\\n",
       "0              False              False       False             False   \n",
       "1              False              False       False             False   \n",
       "2              False              False       False             False   \n",
       "3              False              False       False             False   \n",
       "4              False              False       False             False   \n",
       "..               ...                ...         ...               ...   \n",
       "362            False              False       False             False   \n",
       "363            False              False       False             False   \n",
       "364            False              False       False             False   \n",
       "365            False              False       False             False   \n",
       "366            False              False       False             False   \n",
       "\n",
       "     Credit_History  Property_Area  \n",
       "0             False          False  \n",
       "1             False          False  \n",
       "2             False          False  \n",
       "3             False          False  \n",
       "4             False          False  \n",
       "..              ...            ...  \n",
       "362           False          False  \n",
       "363           False          False  \n",
       "364           False          False  \n",
       "365           False          False  \n",
       "366           False          False  \n",
       "\n",
       "[367 rows x 12 columns]"
      ]
     },
     "execution_count": 21,
     "metadata": {},
     "output_type": "execute_result"
    }
   ],
   "source": [
    "df.isnull()"
   ]
  },
  {
   "cell_type": "code",
   "execution_count": 22,
   "metadata": {},
   "outputs": [
    {
     "data": {
      "text/plain": [
       "Loan_ID              0\n",
       "Gender               0\n",
       "Married              0\n",
       "Dependents           0\n",
       "Education            0\n",
       "Self_Employed        0\n",
       "ApplicantIncome      0\n",
       "CoapplicantIncome    0\n",
       "LoanAmount           0\n",
       "Loan_Amount_Term     0\n",
       "Credit_History       0\n",
       "Property_Area        0\n",
       "dtype: int64"
      ]
     },
     "execution_count": 22,
     "metadata": {},
     "output_type": "execute_result"
    }
   ],
   "source": [
    "df.isnull().sum()"
   ]
  },
  {
   "cell_type": "markdown",
   "metadata": {},
   "source": [
    "### 6.Impute missing values with mean (numerical variables)\n"
   ]
  },
  {
   "cell_type": "code",
   "execution_count": 23,
   "metadata": {},
   "outputs": [
    {
     "data": {
      "text/plain": [
       "Loan_ID               object\n",
       "Gender                object\n",
       "Married               object\n",
       "Dependents            object\n",
       "Education             object\n",
       "Self_Employed         object\n",
       "ApplicantIncome        int64\n",
       "CoapplicantIncome      int64\n",
       "LoanAmount           float64\n",
       "Loan_Amount_Term     float64\n",
       "Credit_History       float64\n",
       "Property_Area         object\n",
       "dtype: object"
      ]
     },
     "execution_count": 23,
     "metadata": {},
     "output_type": "execute_result"
    }
   ],
   "source": [
    "df.dtypes"
   ]
  },
  {
   "cell_type": "code",
   "execution_count": 24,
   "metadata": {},
   "outputs": [],
   "source": [
    "df['LoanAmount'].fillna(inplace=True,value=df['LoanAmount'].mean())\n",
    "df['Loan_Amount_Term'].fillna(inplace=True,value=df['Loan_Amount_Term'].mean())\n",
    "df['Credit_History'].fillna(inplace=True,value=df['Credit_History'].mean())"
   ]
  },
  {
   "cell_type": "markdown",
   "metadata": {},
   "source": [
    "### 7.Impute missing values with mode (categorical variables)\n"
   ]
  },
  {
   "cell_type": "code",
   "execution_count": 25,
   "metadata": {},
   "outputs": [
    {
     "data": {
      "text/html": [
       "<div>\n",
       "<style scoped>\n",
       "    .dataframe tbody tr th:only-of-type {\n",
       "        vertical-align: middle;\n",
       "    }\n",
       "\n",
       "    .dataframe tbody tr th {\n",
       "        vertical-align: top;\n",
       "    }\n",
       "\n",
       "    .dataframe thead th {\n",
       "        text-align: right;\n",
       "    }\n",
       "</style>\n",
       "<table border=\"1\" class=\"dataframe\">\n",
       "  <thead>\n",
       "    <tr style=\"text-align: right;\">\n",
       "      <th></th>\n",
       "      <th>Yes</th>\n",
       "    </tr>\n",
       "  </thead>\n",
       "  <tbody>\n",
       "    <tr>\n",
       "      <th>0</th>\n",
       "      <td>0</td>\n",
       "    </tr>\n",
       "    <tr>\n",
       "      <th>1</th>\n",
       "      <td>0</td>\n",
       "    </tr>\n",
       "    <tr>\n",
       "      <th>2</th>\n",
       "      <td>0</td>\n",
       "    </tr>\n",
       "    <tr>\n",
       "      <th>3</th>\n",
       "      <td>0</td>\n",
       "    </tr>\n",
       "    <tr>\n",
       "      <th>4</th>\n",
       "      <td>0</td>\n",
       "    </tr>\n",
       "    <tr>\n",
       "      <th>...</th>\n",
       "      <td>...</td>\n",
       "    </tr>\n",
       "    <tr>\n",
       "      <th>362</th>\n",
       "      <td>1</td>\n",
       "    </tr>\n",
       "    <tr>\n",
       "      <th>363</th>\n",
       "      <td>0</td>\n",
       "    </tr>\n",
       "    <tr>\n",
       "      <th>364</th>\n",
       "      <td>0</td>\n",
       "    </tr>\n",
       "    <tr>\n",
       "      <th>365</th>\n",
       "      <td>0</td>\n",
       "    </tr>\n",
       "    <tr>\n",
       "      <th>366</th>\n",
       "      <td>1</td>\n",
       "    </tr>\n",
       "  </tbody>\n",
       "</table>\n",
       "<p>367 rows × 1 columns</p>\n",
       "</div>"
      ],
      "text/plain": [
       "     Yes\n",
       "0      0\n",
       "1      0\n",
       "2      0\n",
       "3      0\n",
       "4      0\n",
       "..   ...\n",
       "362    1\n",
       "363    0\n",
       "364    0\n",
       "365    0\n",
       "366    1\n",
       "\n",
       "[367 rows x 1 columns]"
      ]
     },
     "execution_count": 25,
     "metadata": {},
     "output_type": "execute_result"
    }
   ],
   "source": [
    "pd.get_dummies(df['Gender'],drop_first=True)\n",
    "pd.get_dummies(df['Self_Employed'],drop_first=True)"
   ]
  },
  {
   "cell_type": "code",
   "execution_count": 26,
   "metadata": {},
   "outputs": [],
   "source": [
    "df['Gender'].fillna(df['Gender'].mode()[0],inplace=True)\n",
    "df['Dependents'].fillna(df['Dependents'].mode()[0],inplace=True)\n",
    "df['Self_Employed'].fillna(df['Self_Employed'].mode()[0],inplace=True)"
   ]
  },
  {
   "cell_type": "code",
   "execution_count": 27,
   "metadata": {},
   "outputs": [
    {
     "data": {
      "text/plain": [
       "'Male'"
      ]
     },
     "execution_count": 27,
     "metadata": {},
     "output_type": "execute_result"
    }
   ],
   "source": [
    "df['Gender'].mode()[0]"
   ]
  },
  {
   "cell_type": "code",
   "execution_count": 28,
   "metadata": {},
   "outputs": [
    {
     "data": {
      "text/plain": [
       "Loan_ID              0\n",
       "Gender               0\n",
       "Married              0\n",
       "Dependents           0\n",
       "Education            0\n",
       "Self_Employed        0\n",
       "ApplicantIncome      0\n",
       "CoapplicantIncome    0\n",
       "LoanAmount           0\n",
       "Loan_Amount_Term     0\n",
       "Credit_History       0\n",
       "Property_Area        0\n",
       "dtype: int64"
      ]
     },
     "execution_count": 28,
     "metadata": {},
     "output_type": "execute_result"
    }
   ],
   "source": [
    "df.isnull().sum()"
   ]
  },
  {
   "cell_type": "markdown",
   "metadata": {},
   "source": [
    "### 8.Remove irrelevant columns Loan_ID variable - Irrelevant from test and train data\n",
    "\n"
   ]
  },
  {
   "cell_type": "code",
   "execution_count": 32,
   "metadata": {},
   "outputs": [],
   "source": [
    "df.drop('Loan_ID',axis=1, inplace=True)"
   ]
  },
  {
   "cell_type": "markdown",
   "metadata": {},
   "source": [
    "### 9.Build dummy variables for categorical variables\n",
    "\n"
   ]
  },
  {
   "cell_type": "code",
   "execution_count": 33,
   "metadata": {},
   "outputs": [
    {
     "data": {
      "text/html": [
       "<div>\n",
       "<style scoped>\n",
       "    .dataframe tbody tr th:only-of-type {\n",
       "        vertical-align: middle;\n",
       "    }\n",
       "\n",
       "    .dataframe tbody tr th {\n",
       "        vertical-align: top;\n",
       "    }\n",
       "\n",
       "    .dataframe thead th {\n",
       "        text-align: right;\n",
       "    }\n",
       "</style>\n",
       "<table border=\"1\" class=\"dataframe\">\n",
       "  <thead>\n",
       "    <tr style=\"text-align: right;\">\n",
       "      <th></th>\n",
       "      <th>1</th>\n",
       "      <th>2</th>\n",
       "      <th>3+</th>\n",
       "    </tr>\n",
       "  </thead>\n",
       "  <tbody>\n",
       "    <tr>\n",
       "      <th>0</th>\n",
       "      <td>0</td>\n",
       "      <td>0</td>\n",
       "      <td>0</td>\n",
       "    </tr>\n",
       "    <tr>\n",
       "      <th>1</th>\n",
       "      <td>1</td>\n",
       "      <td>0</td>\n",
       "      <td>0</td>\n",
       "    </tr>\n",
       "    <tr>\n",
       "      <th>2</th>\n",
       "      <td>0</td>\n",
       "      <td>1</td>\n",
       "      <td>0</td>\n",
       "    </tr>\n",
       "    <tr>\n",
       "      <th>3</th>\n",
       "      <td>0</td>\n",
       "      <td>1</td>\n",
       "      <td>0</td>\n",
       "    </tr>\n",
       "    <tr>\n",
       "      <th>4</th>\n",
       "      <td>0</td>\n",
       "      <td>0</td>\n",
       "      <td>0</td>\n",
       "    </tr>\n",
       "    <tr>\n",
       "      <th>...</th>\n",
       "      <td>...</td>\n",
       "      <td>...</td>\n",
       "      <td>...</td>\n",
       "    </tr>\n",
       "    <tr>\n",
       "      <th>362</th>\n",
       "      <td>0</td>\n",
       "      <td>0</td>\n",
       "      <td>1</td>\n",
       "    </tr>\n",
       "    <tr>\n",
       "      <th>363</th>\n",
       "      <td>0</td>\n",
       "      <td>0</td>\n",
       "      <td>0</td>\n",
       "    </tr>\n",
       "    <tr>\n",
       "      <th>364</th>\n",
       "      <td>0</td>\n",
       "      <td>0</td>\n",
       "      <td>0</td>\n",
       "    </tr>\n",
       "    <tr>\n",
       "      <th>365</th>\n",
       "      <td>0</td>\n",
       "      <td>0</td>\n",
       "      <td>0</td>\n",
       "    </tr>\n",
       "    <tr>\n",
       "      <th>366</th>\n",
       "      <td>0</td>\n",
       "      <td>0</td>\n",
       "      <td>0</td>\n",
       "    </tr>\n",
       "  </tbody>\n",
       "</table>\n",
       "<p>367 rows × 3 columns</p>\n",
       "</div>"
      ],
      "text/plain": [
       "     1  2  3+\n",
       "0    0  0   0\n",
       "1    1  0   0\n",
       "2    0  1   0\n",
       "3    0  1   0\n",
       "4    0  0   0\n",
       "..  .. ..  ..\n",
       "362  0  0   1\n",
       "363  0  0   0\n",
       "364  0  0   0\n",
       "365  0  0   0\n",
       "366  0  0   0\n",
       "\n",
       "[367 rows x 3 columns]"
      ]
     },
     "execution_count": 33,
     "metadata": {},
     "output_type": "execute_result"
    }
   ],
   "source": [
    "pd.get_dummies(df['Gender'],drop_first=True)\n",
    "pd.get_dummies(df['Self_Employed'],drop_first=True)\n",
    "pd.get_dummies(df['Dependents'],drop_first=True)"
   ]
  },
  {
   "cell_type": "markdown",
   "metadata": {},
   "source": [
    "### 10.Get x as columns of ApplicantIncome and Credit_History\n"
   ]
  },
  {
   "cell_type": "code",
   "execution_count": 56,
   "metadata": {},
   "outputs": [],
   "source": [
    "X = df.iloc[:,[5,9]].values"
   ]
  },
  {
   "cell_type": "code",
   "execution_count": 57,
   "metadata": {},
   "outputs": [
    {
     "data": {
      "text/plain": [
       "array([[5.72000000e+03, 1.00000000e+00],\n",
       "       [3.07600000e+03, 1.00000000e+00],\n",
       "       [5.00000000e+03, 1.00000000e+00],\n",
       "       [2.34000000e+03, 8.25443787e-01],\n",
       "       [3.27600000e+03, 1.00000000e+00],\n",
       "       [2.16500000e+03, 1.00000000e+00],\n",
       "       [2.22600000e+03, 1.00000000e+00],\n",
       "       [3.88100000e+03, 0.00000000e+00],\n",
       "       [1.36330000e+04, 1.00000000e+00],\n",
       "       [2.40000000e+03, 1.00000000e+00],\n",
       "       [3.09100000e+03, 1.00000000e+00],\n",
       "       [2.18500000e+03, 1.00000000e+00],\n",
       "       [4.16600000e+03, 8.25443787e-01],\n",
       "       [1.21730000e+04, 0.00000000e+00],\n",
       "       [4.66600000e+03, 1.00000000e+00],\n",
       "       [5.66700000e+03, 1.00000000e+00],\n",
       "       [4.58300000e+03, 1.00000000e+00],\n",
       "       [3.78600000e+03, 1.00000000e+00],\n",
       "       [9.22600000e+03, 1.00000000e+00],\n",
       "       [1.30000000e+03, 1.00000000e+00],\n",
       "       [1.88800000e+03, 1.00000000e+00],\n",
       "       [2.08300000e+03, 1.00000000e+00],\n",
       "       [3.90900000e+03, 1.00000000e+00],\n",
       "       [3.76500000e+03, 1.00000000e+00],\n",
       "       [5.40000000e+03, 1.00000000e+00],\n",
       "       [0.00000000e+00, 0.00000000e+00],\n",
       "       [4.36300000e+03, 8.25443787e-01],\n",
       "       [7.50000000e+03, 1.00000000e+00],\n",
       "       [3.77200000e+03, 8.25443787e-01],\n",
       "       [2.94200000e+03, 1.00000000e+00],\n",
       "       [2.47800000e+03, 1.00000000e+00],\n",
       "       [6.25000000e+03, 1.00000000e+00],\n",
       "       [3.26800000e+03, 1.00000000e+00],\n",
       "       [2.78300000e+03, 1.00000000e+00],\n",
       "       [2.74000000e+03, 1.00000000e+00],\n",
       "       [3.15000000e+03, 0.00000000e+00],\n",
       "       [7.35000000e+03, 1.00000000e+00],\n",
       "       [2.26700000e+03, 1.00000000e+00],\n",
       "       [5.83300000e+03, 1.00000000e+00],\n",
       "       [3.64300000e+03, 1.00000000e+00],\n",
       "       [5.62900000e+03, 1.00000000e+00],\n",
       "       [3.64400000e+03, 1.00000000e+00],\n",
       "       [1.75000000e+03, 1.00000000e+00],\n",
       "       [6.50000000e+03, 1.00000000e+00],\n",
       "       [3.66600000e+03, 1.00000000e+00],\n",
       "       [4.26000000e+03, 8.25443787e-01],\n",
       "       [4.16300000e+03, 1.00000000e+00],\n",
       "       [2.35600000e+03, 1.00000000e+00],\n",
       "       [6.79200000e+03, 1.00000000e+00],\n",
       "       [8.00000000e+03, 1.00000000e+00],\n",
       "       [2.41900000e+03, 1.00000000e+00],\n",
       "       [3.50000000e+03, 1.00000000e+00],\n",
       "       [3.50000000e+03, 1.00000000e+00],\n",
       "       [4.11600000e+03, 1.00000000e+00],\n",
       "       [5.29300000e+03, 1.00000000e+00],\n",
       "       [2.75000000e+03, 0.00000000e+00],\n",
       "       [4.40200000e+03, 1.00000000e+00],\n",
       "       [3.61300000e+03, 1.00000000e+00],\n",
       "       [2.77900000e+03, 0.00000000e+00],\n",
       "       [4.72000000e+03, 1.00000000e+00],\n",
       "       [2.41500000e+03, 1.00000000e+00],\n",
       "       [7.01600000e+03, 1.00000000e+00],\n",
       "       [4.96800000e+03, 1.00000000e+00],\n",
       "       [2.10100000e+03, 0.00000000e+00],\n",
       "       [4.49000000e+03, 1.00000000e+00],\n",
       "       [2.91700000e+03, 1.00000000e+00],\n",
       "       [4.70000000e+03, 0.00000000e+00],\n",
       "       [3.44500000e+03, 0.00000000e+00],\n",
       "       [7.66600000e+03, 1.00000000e+00],\n",
       "       [2.45800000e+03, 0.00000000e+00],\n",
       "       [3.25000000e+03, 1.00000000e+00],\n",
       "       [4.46300000e+03, 1.00000000e+00],\n",
       "       [4.08300000e+03, 1.00000000e+00],\n",
       "       [3.90000000e+03, 1.00000000e+00],\n",
       "       [4.75000000e+03, 1.00000000e+00],\n",
       "       [3.58300000e+03, 1.00000000e+00],\n",
       "       [3.18900000e+03, 1.00000000e+00],\n",
       "       [6.35600000e+03, 1.00000000e+00],\n",
       "       [3.41300000e+03, 1.00000000e+00],\n",
       "       [7.95000000e+03, 1.00000000e+00],\n",
       "       [3.82900000e+03, 0.00000000e+00],\n",
       "       [7.25290000e+04, 1.00000000e+00],\n",
       "       [4.13600000e+03, 0.00000000e+00],\n",
       "       [8.44900000e+03, 1.00000000e+00],\n",
       "       [4.45600000e+03, 0.00000000e+00],\n",
       "       [4.63500000e+03, 1.00000000e+00],\n",
       "       [3.57100000e+03, 1.00000000e+00],\n",
       "       [3.06600000e+03, 1.00000000e+00],\n",
       "       [3.23500000e+03, 1.00000000e+00],\n",
       "       [5.05800000e+03, 1.00000000e+00],\n",
       "       [3.18800000e+03, 8.25443787e-01],\n",
       "       [1.35180000e+04, 1.00000000e+00],\n",
       "       [4.36400000e+03, 1.00000000e+00],\n",
       "       [4.76600000e+03, 1.00000000e+00],\n",
       "       [4.60900000e+03, 0.00000000e+00],\n",
       "       [6.26000000e+03, 1.00000000e+00],\n",
       "       [3.33300000e+03, 1.00000000e+00],\n",
       "       [3.50000000e+03, 1.00000000e+00],\n",
       "       [9.71900000e+03, 1.00000000e+00],\n",
       "       [6.83500000e+03, 8.25443787e-01],\n",
       "       [4.45200000e+03, 1.00000000e+00],\n",
       "       [2.26200000e+03, 0.00000000e+00],\n",
       "       [3.90100000e+03, 1.00000000e+00],\n",
       "       [2.68700000e+03, 1.00000000e+00],\n",
       "       [2.24300000e+03, 8.25443787e-01],\n",
       "       [3.41700000e+03, 1.00000000e+00],\n",
       "       [1.59600000e+03, 0.00000000e+00],\n",
       "       [4.51300000e+03, 1.00000000e+00],\n",
       "       [4.50000000e+03, 1.00000000e+00],\n",
       "       [4.52300000e+03, 1.00000000e+00],\n",
       "       [4.74200000e+03, 1.00000000e+00],\n",
       "       [4.08200000e+03, 1.00000000e+00],\n",
       "       [3.41700000e+03, 1.00000000e+00],\n",
       "       [2.92200000e+03, 1.00000000e+00],\n",
       "       [4.16700000e+03, 1.00000000e+00],\n",
       "       [4.24300000e+03, 8.25443787e-01],\n",
       "       [0.00000000e+00, 1.00000000e+00],\n",
       "       [1.51600000e+03, 0.00000000e+00],\n",
       "       [1.76200000e+03, 0.00000000e+00],\n",
       "       [7.24000000e+02, 0.00000000e+00],\n",
       "       [3.12500000e+03, 1.00000000e+00],\n",
       "       [2.33300000e+03, 1.00000000e+00],\n",
       "       [3.35000000e+03, 1.00000000e+00],\n",
       "       [2.50000000e+03, 0.00000000e+00],\n",
       "       [1.25000000e+04, 0.00000000e+00],\n",
       "       [4.66700000e+03, 1.00000000e+00],\n",
       "       [6.50000000e+03, 0.00000000e+00],\n",
       "       [7.50000000e+03, 1.00000000e+00],\n",
       "       [3.07300000e+03, 1.00000000e+00],\n",
       "       [3.32100000e+03, 1.00000000e+00],\n",
       "       [3.33300000e+03, 1.00000000e+00],\n",
       "       [3.39100000e+03, 1.00000000e+00],\n",
       "       [3.34300000e+03, 1.00000000e+00],\n",
       "       [3.62000000e+03, 1.00000000e+00],\n",
       "       [4.00000000e+03, 1.00000000e+00],\n",
       "       [4.25800000e+03, 1.00000000e+00],\n",
       "       [4.50000000e+03, 1.00000000e+00],\n",
       "       [2.01400000e+03, 1.00000000e+00],\n",
       "       [3.33300000e+03, 1.00000000e+00],\n",
       "       [4.08300000e+03, 8.25443787e-01],\n",
       "       [4.72700000e+03, 0.00000000e+00],\n",
       "       [3.08900000e+03, 1.00000000e+00],\n",
       "       [6.79400000e+03, 0.00000000e+00],\n",
       "       [3.20000000e+04, 8.25443787e-01],\n",
       "       [1.08900000e+04, 1.00000000e+00],\n",
       "       [1.29410000e+04, 1.00000000e+00],\n",
       "       [3.27600000e+03, 1.00000000e+00],\n",
       "       [8.70300000e+03, 0.00000000e+00],\n",
       "       [4.74200000e+03, 1.00000000e+00],\n",
       "       [5.90000000e+03, 1.00000000e+00],\n",
       "       [3.07100000e+03, 1.00000000e+00],\n",
       "       [2.78300000e+03, 1.00000000e+00],\n",
       "       [5.00000000e+03, 1.00000000e+00],\n",
       "       [2.46300000e+03, 0.00000000e+00],\n",
       "       [4.85500000e+03, 1.00000000e+00],\n",
       "       [1.59900000e+03, 1.00000000e+00],\n",
       "       [4.24600000e+03, 1.00000000e+00],\n",
       "       [4.33300000e+03, 1.00000000e+00],\n",
       "       [5.82300000e+03, 1.00000000e+00],\n",
       "       [7.89500000e+03, 1.00000000e+00],\n",
       "       [4.15000000e+03, 1.00000000e+00],\n",
       "       [2.96400000e+03, 0.00000000e+00],\n",
       "       [5.58300000e+03, 1.00000000e+00],\n",
       "       [2.70800000e+03, 1.00000000e+00],\n",
       "       [3.18000000e+03, 8.25443787e-01],\n",
       "       [2.26800000e+03, 0.00000000e+00],\n",
       "       [1.14100000e+03, 0.00000000e+00],\n",
       "       [3.04200000e+03, 1.00000000e+00],\n",
       "       [1.75000000e+03, 0.00000000e+00],\n",
       "       [3.56400000e+03, 1.00000000e+00],\n",
       "       [3.95800000e+03, 1.00000000e+00],\n",
       "       [4.48300000e+03, 1.00000000e+00],\n",
       "       [5.22500000e+03, 1.00000000e+00],\n",
       "       [3.01700000e+03, 0.00000000e+00],\n",
       "       [2.43100000e+03, 0.00000000e+00],\n",
       "       [4.91200000e+03, 1.00000000e+00],\n",
       "       [2.50000000e+03, 1.00000000e+00],\n",
       "       [2.91800000e+03, 8.25443787e-01],\n",
       "       [5.12800000e+03, 1.00000000e+00],\n",
       "       [1.53120000e+04, 8.25443787e-01],\n",
       "       [3.95800000e+03, 1.00000000e+00],\n",
       "       [4.33400000e+03, 1.00000000e+00],\n",
       "       [4.35800000e+03, 1.00000000e+00],\n",
       "       [4.00000000e+03, 1.00000000e+00],\n",
       "       [1.01660000e+04, 1.00000000e+00],\n",
       "       [4.48300000e+03, 8.25443787e-01],\n",
       "       [4.52100000e+03, 1.00000000e+00],\n",
       "       [9.16700000e+03, 1.00000000e+00],\n",
       "       [1.30830000e+04, 1.00000000e+00],\n",
       "       [7.87400000e+03, 1.00000000e+00],\n",
       "       [4.33300000e+03, 1.00000000e+00],\n",
       "       [4.08300000e+03, 1.00000000e+00],\n",
       "       [3.78500000e+03, 0.00000000e+00],\n",
       "       [2.65400000e+03, 0.00000000e+00],\n",
       "       [1.00000000e+04, 1.00000000e+00],\n",
       "       [5.83300000e+03, 1.00000000e+00],\n",
       "       [4.79600000e+03, 0.00000000e+00],\n",
       "       [2.00000000e+03, 1.00000000e+00],\n",
       "       [2.54000000e+03, 0.00000000e+00],\n",
       "       [1.90000000e+03, 1.00000000e+00],\n",
       "       [8.70600000e+03, 1.00000000e+00],\n",
       "       [2.85500000e+03, 1.00000000e+00],\n",
       "       [3.01600000e+03, 8.25443787e-01],\n",
       "       [3.15900000e+03, 1.00000000e+00],\n",
       "       [1.93700000e+03, 1.00000000e+00],\n",
       "       [2.61300000e+03, 1.00000000e+00],\n",
       "       [4.96000000e+03, 1.00000000e+00],\n",
       "       [3.07400000e+03, 1.00000000e+00],\n",
       "       [4.21300000e+03, 1.00000000e+00],\n",
       "       [2.03800000e+03, 1.00000000e+00],\n",
       "       [2.36200000e+03, 1.00000000e+00],\n",
       "       [5.33300000e+03, 0.00000000e+00],\n",
       "       [5.38400000e+03, 1.00000000e+00],\n",
       "       [5.70800000e+03, 1.00000000e+00],\n",
       "       [3.75400000e+03, 1.00000000e+00],\n",
       "       [2.91400000e+03, 1.00000000e+00],\n",
       "       [2.74700000e+03, 1.00000000e+00],\n",
       "       [7.83000000e+03, 1.00000000e+00],\n",
       "       [3.50700000e+03, 1.00000000e+00],\n",
       "       [3.74700000e+03, 1.00000000e+00],\n",
       "       [2.16600000e+03, 8.25443787e-01],\n",
       "       [3.50000000e+03, 1.00000000e+00],\n",
       "       [2.89600000e+03, 1.00000000e+00],\n",
       "       [5.06200000e+03, 1.00000000e+00],\n",
       "       [5.18400000e+03, 0.00000000e+00],\n",
       "       [2.54500000e+03, 1.00000000e+00],\n",
       "       [2.55300000e+03, 1.00000000e+00],\n",
       "       [3.43600000e+03, 1.00000000e+00],\n",
       "       [2.41200000e+03, 1.00000000e+00],\n",
       "       [5.18000000e+03, 0.00000000e+00],\n",
       "       [1.49110000e+04, 1.00000000e+00],\n",
       "       [2.86000000e+03, 1.00000000e+00],\n",
       "       [1.17300000e+03, 1.00000000e+00],\n",
       "       [7.60000000e+03, 1.00000000e+00],\n",
       "       [2.15700000e+03, 1.00000000e+00],\n",
       "       [2.23100000e+03, 0.00000000e+00],\n",
       "       [2.27400000e+03, 0.00000000e+00],\n",
       "       [6.16600000e+03, 1.00000000e+00],\n",
       "       [2.51300000e+03, 1.00000000e+00],\n",
       "       [4.33300000e+03, 1.00000000e+00],\n",
       "       [3.84400000e+03, 1.00000000e+00],\n",
       "       [3.88700000e+03, 0.00000000e+00],\n",
       "       [3.51000000e+03, 1.00000000e+00],\n",
       "       [2.53900000e+03, 0.00000000e+00],\n",
       "       [2.10700000e+03, 1.00000000e+00],\n",
       "       [3.18600000e+03, 0.00000000e+00],\n",
       "       [5.00000000e+03, 1.00000000e+00],\n",
       "       [1.00000000e+04, 1.00000000e+00],\n",
       "       [3.94300000e+03, 1.00000000e+00],\n",
       "       [2.92500000e+03, 1.00000000e+00],\n",
       "       [3.24200000e+03, 0.00000000e+00],\n",
       "       [3.86300000e+03, 1.00000000e+00],\n",
       "       [4.02800000e+03, 1.00000000e+00],\n",
       "       [4.01000000e+03, 1.00000000e+00],\n",
       "       [3.71900000e+03, 1.00000000e+00],\n",
       "       [2.85800000e+03, 0.00000000e+00],\n",
       "       [3.83300000e+03, 1.00000000e+00],\n",
       "       [3.33300000e+03, 1.00000000e+00],\n",
       "       [3.00700000e+03, 1.00000000e+00],\n",
       "       [1.85000000e+03, 8.25443787e-01],\n",
       "       [2.79200000e+03, 1.00000000e+00],\n",
       "       [2.98200000e+03, 1.00000000e+00],\n",
       "       [3.41700000e+03, 8.25443787e-01],\n",
       "       [1.88400000e+04, 1.00000000e+00],\n",
       "       [2.99500000e+03, 1.00000000e+00],\n",
       "       [3.57900000e+03, 8.25443787e-01],\n",
       "       [3.83500000e+03, 0.00000000e+00],\n",
       "       [3.85400000e+03, 1.00000000e+00],\n",
       "       [5.83300000e+03, 0.00000000e+00],\n",
       "       [3.50800000e+03, 1.00000000e+00],\n",
       "       [1.63500000e+03, 1.00000000e+00],\n",
       "       [3.33300000e+03, 1.00000000e+00],\n",
       "       [2.47970000e+04, 1.00000000e+00],\n",
       "       [5.66700000e+03, 0.00000000e+00],\n",
       "       [3.50000000e+03, 0.00000000e+00],\n",
       "       [2.77300000e+03, 1.00000000e+00],\n",
       "       [6.50000000e+03, 1.00000000e+00],\n",
       "       [5.76900000e+03, 1.00000000e+00],\n",
       "       [3.63400000e+03, 0.00000000e+00],\n",
       "       [2.91670000e+04, 1.00000000e+00],\n",
       "       [2.16600000e+03, 1.00000000e+00],\n",
       "       [5.00000000e+03, 1.00000000e+00],\n",
       "       [5.53000000e+03, 8.25443787e-01],\n",
       "       [9.00000000e+03, 1.00000000e+00],\n",
       "       [1.00000000e+04, 1.00000000e+00],\n",
       "       [8.75000000e+03, 1.00000000e+00],\n",
       "       [2.15700000e+03, 8.25443787e-01],\n",
       "       [1.97200000e+03, 1.00000000e+00],\n",
       "       [4.98300000e+03, 1.00000000e+00],\n",
       "       [8.33300000e+03, 1.00000000e+00],\n",
       "       [3.66700000e+03, 1.00000000e+00],\n",
       "       [3.16600000e+03, 1.00000000e+00],\n",
       "       [3.27100000e+03, 1.00000000e+00],\n",
       "       [2.24100000e+03, 0.00000000e+00],\n",
       "       [1.79200000e+03, 1.00000000e+00],\n",
       "       [2.66600000e+03, 1.00000000e+00],\n",
       "       [6.47800000e+03, 1.00000000e+00],\n",
       "       [3.80800000e+03, 1.00000000e+00],\n",
       "       [3.72900000e+03, 1.00000000e+00],\n",
       "       [4.12000000e+03, 1.00000000e+00],\n",
       "       [7.50000000e+03, 1.00000000e+00],\n",
       "       [6.30000000e+03, 0.00000000e+00],\n",
       "       [1.49870000e+04, 1.00000000e+00],\n",
       "       [5.70000000e+02, 1.00000000e+00],\n",
       "       [2.60000000e+03, 1.00000000e+00],\n",
       "       [2.73300000e+03, 8.25443787e-01],\n",
       "       [7.50000000e+03, 1.00000000e+00],\n",
       "       [3.85900000e+03, 1.00000000e+00],\n",
       "       [6.82500000e+03, 1.00000000e+00],\n",
       "       [3.70800000e+03, 1.00000000e+00],\n",
       "       [5.31400000e+03, 1.00000000e+00],\n",
       "       [2.36600000e+03, 0.00000000e+00],\n",
       "       [2.06600000e+03, 1.00000000e+00],\n",
       "       [5.00000000e+03, 1.00000000e+00],\n",
       "       [3.76700000e+03, 1.00000000e+00],\n",
       "       [7.85900000e+03, 1.00000000e+00],\n",
       "       [4.28300000e+03, 1.00000000e+00],\n",
       "       [1.70000000e+03, 0.00000000e+00],\n",
       "       [4.76800000e+03, 1.00000000e+00],\n",
       "       [3.08300000e+03, 1.00000000e+00],\n",
       "       [2.66700000e+03, 1.00000000e+00],\n",
       "       [1.64700000e+03, 1.00000000e+00],\n",
       "       [3.40000000e+03, 1.00000000e+00],\n",
       "       [1.60000000e+04, 1.00000000e+00],\n",
       "       [5.33300000e+03, 1.00000000e+00],\n",
       "       [2.87500000e+03, 0.00000000e+00],\n",
       "       [2.60000000e+03, 1.00000000e+00],\n",
       "       [5.04100000e+03, 1.00000000e+00],\n",
       "       [6.95800000e+03, 1.00000000e+00],\n",
       "       [3.50000000e+03, 8.25443787e-01],\n",
       "       [5.50900000e+03, 1.00000000e+00],\n",
       "       [9.69900000e+03, 1.00000000e+00],\n",
       "       [3.62100000e+03, 1.00000000e+00],\n",
       "       [4.70900000e+03, 1.00000000e+00],\n",
       "       [1.51600000e+03, 1.00000000e+00],\n",
       "       [2.40000000e+03, 1.00000000e+00],\n",
       "       [3.01500000e+03, 8.25443787e-01],\n",
       "       [2.29200000e+03, 1.00000000e+00],\n",
       "       [2.36000000e+03, 1.00000000e+00],\n",
       "       [4.33300000e+03, 0.00000000e+00],\n",
       "       [2.62300000e+03, 1.00000000e+00],\n",
       "       [3.97200000e+03, 1.00000000e+00],\n",
       "       [3.52200000e+03, 1.00000000e+00],\n",
       "       [4.70000000e+03, 1.00000000e+00],\n",
       "       [6.85800000e+03, 1.00000000e+00],\n",
       "       [8.33400000e+03, 1.00000000e+00],\n",
       "       [3.39100000e+03, 0.00000000e+00],\n",
       "       [2.86800000e+03, 1.00000000e+00],\n",
       "       [3.41800000e+03, 1.00000000e+00],\n",
       "       [2.50000000e+03, 1.00000000e+00],\n",
       "       [8.66700000e+03, 1.00000000e+00],\n",
       "       [2.28300000e+03, 8.25443787e-01],\n",
       "       [5.81700000e+03, 1.00000000e+00],\n",
       "       [5.11900000e+03, 1.00000000e+00],\n",
       "       [5.31600000e+03, 0.00000000e+00],\n",
       "       [7.60300000e+03, 1.00000000e+00],\n",
       "       [3.79100000e+03, 1.00000000e+00],\n",
       "       [2.50000000e+03, 1.00000000e+00],\n",
       "       [3.13200000e+03, 8.25443787e-01],\n",
       "       [4.00000000e+03, 1.00000000e+00],\n",
       "       [8.55000000e+03, 8.25443787e-01],\n",
       "       [2.26900000e+03, 1.00000000e+00],\n",
       "       [4.00900000e+03, 1.00000000e+00],\n",
       "       [4.15800000e+03, 1.00000000e+00],\n",
       "       [3.25000000e+03, 8.25443787e-01],\n",
       "       [5.00000000e+03, 1.00000000e+00],\n",
       "       [9.20000000e+03, 1.00000000e+00]])"
      ]
     },
     "execution_count": 57,
     "metadata": {},
     "output_type": "execute_result"
    }
   ],
   "source": [
    "X"
   ]
  },
  {
   "cell_type": "markdown",
   "metadata": {},
   "source": [
    "### 11.Import matplotlib and plot scatter between applicantincome and credit history"
   ]
  },
  {
   "cell_type": "code",
   "execution_count": 58,
   "metadata": {
    "scrolled": true
   },
   "outputs": [
    {
     "data": {
      "text/plain": [
       "<matplotlib.axes._subplots.AxesSubplot at 0x2a58e686630>"
      ]
     },
     "execution_count": 58,
     "metadata": {},
     "output_type": "execute_result"
    },
    {
     "data": {
      "image/png": "[encoded data removed]",
      "text/plain": [
       "<Figure size 432x288 with 1 Axes>"
      ]
     },
     "metadata": {
      "needs_background": "light"
     },
     "output_type": "display_data"
    }
   ],
   "source": [
    "import matplotlib.pyplot as plt\n",
    "import seaborn as sns\n",
    "sns.scatterplot(df['ApplicantIncome'],df['Credit_History'])"
   ]
  },
  {
   "cell_type": "markdown",
   "metadata": {},
   "source": [
    "### 12.Elbow method to determine K and plot Elbow Method\n"
   ]
  },
  {
   "cell_type": "code",
   "execution_count": 59,
   "metadata": {},
   "outputs": [],
   "source": [
    "from sklearn.cluster import KMeans\n",
    "elb = []\n",
    "for n in range(1,10):\n",
    "    kme = KMeans(n_clusters=n)\n",
    "    kme.fit(X)\n",
    "    elb.append(kme.inertia_)"
   ]
  },
  {
   "cell_type": "code",
   "execution_count": 60,
   "metadata": {},
   "outputs": [
    {
     "data": {
      "text/plain": [
       "<matplotlib.axes._subplots.AxesSubplot at 0x2a58e72be80>"
      ]
     },
     "execution_count": 60,
     "metadata": {},
     "output_type": "execute_result"
    },
    {
     "data": {
      "image/png": "[encoded data removed]",
      "text/plain": [
       "<Figure size 432x288 with 1 Axes>"
      ]
     },
     "metadata": {
      "needs_background": "light"
     },
     "output_type": "display_data"
    }
   ],
   "source": [
    "sns.lineplot(range(1,10),elb)"
   ]
  },
  {
   "cell_type": "markdown",
   "metadata": {
    "scrolled": true
   },
   "source": [
    "### 13.fit K_means with founded K\n",
    "\n"
   ]
  },
  {
   "cell_type": "code",
   "execution_count": 61,
   "metadata": {},
   "outputs": [],
   "source": [
    "km = KMeans(n_clusters=4)\n",
    "km.fit(X)\n",
    "pred = km.predict(X)"
   ]
  },
  {
   "cell_type": "markdown",
   "metadata": {},
   "source": [
    "### 14.show cluster results\n"
   ]
  },
  {
   "cell_type": "code",
   "execution_count": 62,
   "metadata": {},
   "outputs": [
    {
     "data": {
      "text/plain": [
       "<module 'seaborn' from 'C:\\\\Users\\\\User\\\\Anaconda3\\\\lib\\\\site-packages\\\\seaborn\\\\__init__.py'>"
      ]
     },
     "execution_count": 62,
     "metadata": {},
     "output_type": "execute_result"
    }
   ],
   "source": [
    "sns"
   ]
  },
  {
   "cell_type": "markdown",
   "metadata": {},
   "source": [
    "### 15.print cluster centers\n"
   ]
  },
  {
   "cell_type": "code",
   "execution_count": 63,
   "metadata": {},
   "outputs": [
    {
     "data": {
      "text/plain": [
       "array([[3.52985668e+03, 8.09889559e-01],\n",
       "       [7.25290000e+04, 1.00000000e+00],\n",
       "       [2.62010000e+04, 9.56360947e-01],\n",
       "       [9.13920000e+03, 8.99569661e-01]])"
      ]
     },
     "execution_count": 63,
     "metadata": {},
     "output_type": "execute_result"
    }
   ],
   "source": [
    "km.cluster_centers_"
   ]
  },
  {
   "cell_type": "markdown",
   "metadata": {},
   "source": [
    "### 16.Lets plot those clusters!\n"
   ]
  },
  {
   "cell_type": "code",
   "execution_count": 64,
   "metadata": {},
   "outputs": [
    {
     "data": {
      "text/plain": [
       "<matplotlib.axes._subplots.AxesSubplot at 0x2a58f75bbe0>"
      ]
     },
     "execution_count": 64,
     "metadata": {},
     "output_type": "execute_result"
    },
    {
     "data": {
      "image/png": "[encoded data removed]",
      "text/plain": [
       "<Figure size 432x288 with 1 Axes>"
      ]
     },
     "metadata": {
      "needs_background": "light"
     },
     "output_type": "display_data"
    }
   ],
   "source": [
    "sns.scatterplot(df['ApplicantIncome'], df['Credit_History'], hue=pred, palette='viridis')"
   ]
  },
  {
   "cell_type": "markdown",
   "metadata": {},
   "source": [
    "### 17.Create dendogram\n",
    "\n"
   ]
  },
  {
   "cell_type": "code",
   "execution_count": 65,
   "metadata": {},
   "outputs": [
    {
     "data": {
      "image/png": "[encoded data removed]",
      "text/plain": [
       "<Figure size 432x288 with 1 Axes>"
      ]
     },
     "metadata": {
      "needs_background": "light"
     },
     "output_type": "display_data"
    }
   ],
   "source": [
    "import scipy.cluster.hierarchy as sch\n",
    "dendogram=sch.dendrogram(sch.linkage(X,method='ward')) "
   ]
  },
  {
   "cell_type": "code",
   "execution_count": 66,
   "metadata": {},
   "outputs": [],
   "source": [
    "from sklearn.cluster import AgglomerativeClustering"
   ]
  },
  {
   "cell_type": "markdown",
   "metadata": {},
   "source": [
    "### 18.Fit agglomerative hierarchical clustering\n",
    "\n"
   ]
  },
  {
   "cell_type": "code",
   "execution_count": 67,
   "metadata": {},
   "outputs": [],
   "source": [
    "ac=AgglomerativeClustering(n_clusters=4)\n",
    "preds=ac.fit_predict(X)"
   ]
  },
  {
   "cell_type": "markdown",
   "metadata": {},
   "source": [
    "### 19.Lets plot those clusters!\n",
    "\n"
   ]
  },
  {
   "cell_type": "code",
   "execution_count": 68,
   "metadata": {},
   "outputs": [
    {
     "data": {
      "text/plain": [
       "<matplotlib.axes._subplots.AxesSubplot at 0x2a58e277160>"
      ]
     },
     "execution_count": 68,
     "metadata": {},
     "output_type": "execute_result"
    },
    {
     "data": {
      "image/png": "[encoded data removed]",
      "text/plain": [
       "<Figure size 432x288 with 1 Axes>"
      ]
     },
     "metadata": {
      "needs_background": "light"
     },
     "output_type": "display_data"
    }
   ],
   "source": [
    "sns.scatterplot(df['ApplicantIncome'], df['Credit_History'], hue=preds, palette='viridis')"
   ]
  },
  {
   "cell_type": "code",
   "execution_count": 69,
   "metadata": {},
   "outputs": [
    {
     "data": {
      "text/plain": [
       "array([[5.72000000e+03, 1.00000000e+00],\n",
       "       [3.07600000e+03, 1.00000000e+00],\n",
       "       [5.00000000e+03, 1.00000000e+00],\n",
       "       [2.34000000e+03, 8.25443787e-01],\n",
       "       [3.27600000e+03, 1.00000000e+00],\n",
       "       [2.16500000e+03, 1.00000000e+00],\n",
       "       [2.22600000e+03, 1.00000000e+00],\n",
       "       [3.88100000e+03, 0.00000000e+00],\n",
       "       [1.36330000e+04, 1.00000000e+00],\n",
       "       [2.40000000e+03, 1.00000000e+00],\n",
       "       [3.09100000e+03, 1.00000000e+00],\n",
       "       [2.18500000e+03, 1.00000000e+00],\n",
       "       [4.16600000e+03, 8.25443787e-01],\n",
       "       [1.21730000e+04, 0.00000000e+00],\n",
       "       [4.66600000e+03, 1.00000000e+00],\n",
       "       [5.66700000e+03, 1.00000000e+00],\n",
       "       [4.58300000e+03, 1.00000000e+00],\n",
       "       [3.78600000e+03, 1.00000000e+00],\n",
       "       [9.22600000e+03, 1.00000000e+00],\n",
       "       [1.30000000e+03, 1.00000000e+00],\n",
       "       [1.88800000e+03, 1.00000000e+00],\n",
       "       [2.08300000e+03, 1.00000000e+00],\n",
       "       [3.90900000e+03, 1.00000000e+00],\n",
       "       [3.76500000e+03, 1.00000000e+00],\n",
       "       [5.40000000e+03, 1.00000000e+00],\n",
       "       [0.00000000e+00, 0.00000000e+00],\n",
       "       [4.36300000e+03, 8.25443787e-01],\n",
       "       [7.50000000e+03, 1.00000000e+00],\n",
       "       [3.77200000e+03, 8.25443787e-01],\n",
       "       [2.94200000e+03, 1.00000000e+00],\n",
       "       [2.47800000e+03, 1.00000000e+00],\n",
       "       [6.25000000e+03, 1.00000000e+00],\n",
       "       [3.26800000e+03, 1.00000000e+00],\n",
       "       [2.78300000e+03, 1.00000000e+00],\n",
       "       [2.74000000e+03, 1.00000000e+00],\n",
       "       [3.15000000e+03, 0.00000000e+00],\n",
       "       [7.35000000e+03, 1.00000000e+00],\n",
       "       [2.26700000e+03, 1.00000000e+00],\n",
       "       [5.83300000e+03, 1.00000000e+00],\n",
       "       [3.64300000e+03, 1.00000000e+00],\n",
       "       [5.62900000e+03, 1.00000000e+00],\n",
       "       [3.64400000e+03, 1.00000000e+00],\n",
       "       [1.75000000e+03, 1.00000000e+00],\n",
       "       [6.50000000e+03, 1.00000000e+00],\n",
       "       [3.66600000e+03, 1.00000000e+00],\n",
       "       [4.26000000e+03, 8.25443787e-01],\n",
       "       [4.16300000e+03, 1.00000000e+00],\n",
       "       [2.35600000e+03, 1.00000000e+00],\n",
       "       [6.79200000e+03, 1.00000000e+00],\n",
       "       [8.00000000e+03, 1.00000000e+00],\n",
       "       [2.41900000e+03, 1.00000000e+00],\n",
       "       [3.50000000e+03, 1.00000000e+00],\n",
       "       [3.50000000e+03, 1.00000000e+00],\n",
       "       [4.11600000e+03, 1.00000000e+00],\n",
       "       [5.29300000e+03, 1.00000000e+00],\n",
       "       [2.75000000e+03, 0.00000000e+00],\n",
       "       [4.40200000e+03, 1.00000000e+00],\n",
       "       [3.61300000e+03, 1.00000000e+00],\n",
       "       [2.77900000e+03, 0.00000000e+00],\n",
       "       [4.72000000e+03, 1.00000000e+00],\n",
       "       [2.41500000e+03, 1.00000000e+00],\n",
       "       [7.01600000e+03, 1.00000000e+00],\n",
       "       [4.96800000e+03, 1.00000000e+00],\n",
       "       [2.10100000e+03, 0.00000000e+00],\n",
       "       [4.49000000e+03, 1.00000000e+00],\n",
       "       [2.91700000e+03, 1.00000000e+00],\n",
       "       [4.70000000e+03, 0.00000000e+00],\n",
       "       [3.44500000e+03, 0.00000000e+00],\n",
       "       [7.66600000e+03, 1.00000000e+00],\n",
       "       [2.45800000e+03, 0.00000000e+00],\n",
       "       [3.25000000e+03, 1.00000000e+00],\n",
       "       [4.46300000e+03, 1.00000000e+00],\n",
       "       [4.08300000e+03, 1.00000000e+00],\n",
       "       [3.90000000e+03, 1.00000000e+00],\n",
       "       [4.75000000e+03, 1.00000000e+00],\n",
       "       [3.58300000e+03, 1.00000000e+00],\n",
       "       [3.18900000e+03, 1.00000000e+00],\n",
       "       [6.35600000e+03, 1.00000000e+00],\n",
       "       [3.41300000e+03, 1.00000000e+00],\n",
       "       [7.95000000e+03, 1.00000000e+00],\n",
       "       [3.82900000e+03, 0.00000000e+00],\n",
       "       [7.25290000e+04, 1.00000000e+00],\n",
       "       [4.13600000e+03, 0.00000000e+00],\n",
       "       [8.44900000e+03, 1.00000000e+00],\n",
       "       [4.45600000e+03, 0.00000000e+00],\n",
       "       [4.63500000e+03, 1.00000000e+00],\n",
       "       [3.57100000e+03, 1.00000000e+00],\n",
       "       [3.06600000e+03, 1.00000000e+00],\n",
       "       [3.23500000e+03, 1.00000000e+00],\n",
       "       [5.05800000e+03, 1.00000000e+00],\n",
       "       [3.18800000e+03, 8.25443787e-01],\n",
       "       [1.35180000e+04, 1.00000000e+00],\n",
       "       [4.36400000e+03, 1.00000000e+00],\n",
       "       [4.76600000e+03, 1.00000000e+00],\n",
       "       [4.60900000e+03, 0.00000000e+00],\n",
       "       [6.26000000e+03, 1.00000000e+00],\n",
       "       [3.33300000e+03, 1.00000000e+00],\n",
       "       [3.50000000e+03, 1.00000000e+00],\n",
       "       [9.71900000e+03, 1.00000000e+00],\n",
       "       [6.83500000e+03, 8.25443787e-01],\n",
       "       [4.45200000e+03, 1.00000000e+00],\n",
       "       [2.26200000e+03, 0.00000000e+00],\n",
       "       [3.90100000e+03, 1.00000000e+00],\n",
       "       [2.68700000e+03, 1.00000000e+00],\n",
       "       [2.24300000e+03, 8.25443787e-01],\n",
       "       [3.41700000e+03, 1.00000000e+00],\n",
       "       [1.59600000e+03, 0.00000000e+00],\n",
       "       [4.51300000e+03, 1.00000000e+00],\n",
       "       [4.50000000e+03, 1.00000000e+00],\n",
       "       [4.52300000e+03, 1.00000000e+00],\n",
       "       [4.74200000e+03, 1.00000000e+00],\n",
       "       [4.08200000e+03, 1.00000000e+00],\n",
       "       [3.41700000e+03, 1.00000000e+00],\n",
       "       [2.92200000e+03, 1.00000000e+00],\n",
       "       [4.16700000e+03, 1.00000000e+00],\n",
       "       [4.24300000e+03, 8.25443787e-01],\n",
       "       [0.00000000e+00, 1.00000000e+00],\n",
       "       [1.51600000e+03, 0.00000000e+00],\n",
       "       [1.76200000e+03, 0.00000000e+00],\n",
       "       [7.24000000e+02, 0.00000000e+00],\n",
       "       [3.12500000e+03, 1.00000000e+00],\n",
       "       [2.33300000e+03, 1.00000000e+00],\n",
       "       [3.35000000e+03, 1.00000000e+00],\n",
       "       [2.50000000e+03, 0.00000000e+00],\n",
       "       [1.25000000e+04, 0.00000000e+00],\n",
       "       [4.66700000e+03, 1.00000000e+00],\n",
       "       [6.50000000e+03, 0.00000000e+00],\n",
       "       [7.50000000e+03, 1.00000000e+00],\n",
       "       [3.07300000e+03, 1.00000000e+00],\n",
       "       [3.32100000e+03, 1.00000000e+00],\n",
       "       [3.33300000e+03, 1.00000000e+00],\n",
       "       [3.39100000e+03, 1.00000000e+00],\n",
       "       [3.34300000e+03, 1.00000000e+00],\n",
       "       [3.62000000e+03, 1.00000000e+00],\n",
       "       [4.00000000e+03, 1.00000000e+00],\n",
       "       [4.25800000e+03, 1.00000000e+00],\n",
       "       [4.50000000e+03, 1.00000000e+00],\n",
       "       [2.01400000e+03, 1.00000000e+00],\n",
       "       [3.33300000e+03, 1.00000000e+00],\n",
       "       [4.08300000e+03, 8.25443787e-01],\n",
       "       [4.72700000e+03, 0.00000000e+00],\n",
       "       [3.08900000e+03, 1.00000000e+00],\n",
       "       [6.79400000e+03, 0.00000000e+00],\n",
       "       [3.20000000e+04, 8.25443787e-01],\n",
       "       [1.08900000e+04, 1.00000000e+00],\n",
       "       [1.29410000e+04, 1.00000000e+00],\n",
       "       [3.27600000e+03, 1.00000000e+00],\n",
       "       [8.70300000e+03, 0.00000000e+00],\n",
       "       [4.74200000e+03, 1.00000000e+00],\n",
       "       [5.90000000e+03, 1.00000000e+00],\n",
       "       [3.07100000e+03, 1.00000000e+00],\n",
       "       [2.78300000e+03, 1.00000000e+00],\n",
       "       [5.00000000e+03, 1.00000000e+00],\n",
       "       [2.46300000e+03, 0.00000000e+00],\n",
       "       [4.85500000e+03, 1.00000000e+00],\n",
       "       [1.59900000e+03, 1.00000000e+00],\n",
       "       [4.24600000e+03, 1.00000000e+00],\n",
       "       [4.33300000e+03, 1.00000000e+00],\n",
       "       [5.82300000e+03, 1.00000000e+00],\n",
       "       [7.89500000e+03, 1.00000000e+00],\n",
       "       [4.15000000e+03, 1.00000000e+00],\n",
       "       [2.96400000e+03, 0.00000000e+00],\n",
       "       [5.58300000e+03, 1.00000000e+00],\n",
       "       [2.70800000e+03, 1.00000000e+00],\n",
       "       [3.18000000e+03, 8.25443787e-01],\n",
       "       [2.26800000e+03, 0.00000000e+00],\n",
       "       [1.14100000e+03, 0.00000000e+00],\n",
       "       [3.04200000e+03, 1.00000000e+00],\n",
       "       [1.75000000e+03, 0.00000000e+00],\n",
       "       [3.56400000e+03, 1.00000000e+00],\n",
       "       [3.95800000e+03, 1.00000000e+00],\n",
       "       [4.48300000e+03, 1.00000000e+00],\n",
       "       [5.22500000e+03, 1.00000000e+00],\n",
       "       [3.01700000e+03, 0.00000000e+00],\n",
       "       [2.43100000e+03, 0.00000000e+00],\n",
       "       [4.91200000e+03, 1.00000000e+00],\n",
       "       [2.50000000e+03, 1.00000000e+00],\n",
       "       [2.91800000e+03, 8.25443787e-01],\n",
       "       [5.12800000e+03, 1.00000000e+00],\n",
       "       [1.53120000e+04, 8.25443787e-01],\n",
       "       [3.95800000e+03, 1.00000000e+00],\n",
       "       [4.33400000e+03, 1.00000000e+00],\n",
       "       [4.35800000e+03, 1.00000000e+00],\n",
       "       [4.00000000e+03, 1.00000000e+00],\n",
       "       [1.01660000e+04, 1.00000000e+00],\n",
       "       [4.48300000e+03, 8.25443787e-01],\n",
       "       [4.52100000e+03, 1.00000000e+00],\n",
       "       [9.16700000e+03, 1.00000000e+00],\n",
       "       [1.30830000e+04, 1.00000000e+00],\n",
       "       [7.87400000e+03, 1.00000000e+00],\n",
       "       [4.33300000e+03, 1.00000000e+00],\n",
       "       [4.08300000e+03, 1.00000000e+00],\n",
       "       [3.78500000e+03, 0.00000000e+00],\n",
       "       [2.65400000e+03, 0.00000000e+00],\n",
       "       [1.00000000e+04, 1.00000000e+00],\n",
       "       [5.83300000e+03, 1.00000000e+00],\n",
       "       [4.79600000e+03, 0.00000000e+00],\n",
       "       [2.00000000e+03, 1.00000000e+00],\n",
       "       [2.54000000e+03, 0.00000000e+00],\n",
       "       [1.90000000e+03, 1.00000000e+00],\n",
       "       [8.70600000e+03, 1.00000000e+00],\n",
       "       [2.85500000e+03, 1.00000000e+00],\n",
       "       [3.01600000e+03, 8.25443787e-01],\n",
       "       [3.15900000e+03, 1.00000000e+00],\n",
       "       [1.93700000e+03, 1.00000000e+00],\n",
       "       [2.61300000e+03, 1.00000000e+00],\n",
       "       [4.96000000e+03, 1.00000000e+00],\n",
       "       [3.07400000e+03, 1.00000000e+00],\n",
       "       [4.21300000e+03, 1.00000000e+00],\n",
       "       [2.03800000e+03, 1.00000000e+00],\n",
       "       [2.36200000e+03, 1.00000000e+00],\n",
       "       [5.33300000e+03, 0.00000000e+00],\n",
       "       [5.38400000e+03, 1.00000000e+00],\n",
       "       [5.70800000e+03, 1.00000000e+00],\n",
       "       [3.75400000e+03, 1.00000000e+00],\n",
       "       [2.91400000e+03, 1.00000000e+00],\n",
       "       [2.74700000e+03, 1.00000000e+00],\n",
       "       [7.83000000e+03, 1.00000000e+00],\n",
       "       [3.50700000e+03, 1.00000000e+00],\n",
       "       [3.74700000e+03, 1.00000000e+00],\n",
       "       [2.16600000e+03, 8.25443787e-01],\n",
       "       [3.50000000e+03, 1.00000000e+00],\n",
       "       [2.89600000e+03, 1.00000000e+00],\n",
       "       [5.06200000e+03, 1.00000000e+00],\n",
       "       [5.18400000e+03, 0.00000000e+00],\n",
       "       [2.54500000e+03, 1.00000000e+00],\n",
       "       [2.55300000e+03, 1.00000000e+00],\n",
       "       [3.43600000e+03, 1.00000000e+00],\n",
       "       [2.41200000e+03, 1.00000000e+00],\n",
       "       [5.18000000e+03, 0.00000000e+00],\n",
       "       [1.49110000e+04, 1.00000000e+00],\n",
       "       [2.86000000e+03, 1.00000000e+00],\n",
       "       [1.17300000e+03, 1.00000000e+00],\n",
       "       [7.60000000e+03, 1.00000000e+00],\n",
       "       [2.15700000e+03, 1.00000000e+00],\n",
       "       [2.23100000e+03, 0.00000000e+00],\n",
       "       [2.27400000e+03, 0.00000000e+00],\n",
       "       [6.16600000e+03, 1.00000000e+00],\n",
       "       [2.51300000e+03, 1.00000000e+00],\n",
       "       [4.33300000e+03, 1.00000000e+00],\n",
       "       [3.84400000e+03, 1.00000000e+00],\n",
       "       [3.88700000e+03, 0.00000000e+00],\n",
       "       [3.51000000e+03, 1.00000000e+00],\n",
       "       [2.53900000e+03, 0.00000000e+00],\n",
       "       [2.10700000e+03, 1.00000000e+00],\n",
       "       [3.18600000e+03, 0.00000000e+00],\n",
       "       [5.00000000e+03, 1.00000000e+00],\n",
       "       [1.00000000e+04, 1.00000000e+00],\n",
       "       [3.94300000e+03, 1.00000000e+00],\n",
       "       [2.92500000e+03, 1.00000000e+00],\n",
       "       [3.24200000e+03, 0.00000000e+00],\n",
       "       [3.86300000e+03, 1.00000000e+00],\n",
       "       [4.02800000e+03, 1.00000000e+00],\n",
       "       [4.01000000e+03, 1.00000000e+00],\n",
       "       [3.71900000e+03, 1.00000000e+00],\n",
       "       [2.85800000e+03, 0.00000000e+00],\n",
       "       [3.83300000e+03, 1.00000000e+00],\n",
       "       [3.33300000e+03, 1.00000000e+00],\n",
       "       [3.00700000e+03, 1.00000000e+00],\n",
       "       [1.85000000e+03, 8.25443787e-01],\n",
       "       [2.79200000e+03, 1.00000000e+00],\n",
       "       [2.98200000e+03, 1.00000000e+00],\n",
       "       [3.41700000e+03, 8.25443787e-01],\n",
       "       [1.88400000e+04, 1.00000000e+00],\n",
       "       [2.99500000e+03, 1.00000000e+00],\n",
       "       [3.57900000e+03, 8.25443787e-01],\n",
       "       [3.83500000e+03, 0.00000000e+00],\n",
       "       [3.85400000e+03, 1.00000000e+00],\n",
       "       [5.83300000e+03, 0.00000000e+00],\n",
       "       [3.50800000e+03, 1.00000000e+00],\n",
       "       [1.63500000e+03, 1.00000000e+00],\n",
       "       [3.33300000e+03, 1.00000000e+00],\n",
       "       [2.47970000e+04, 1.00000000e+00],\n",
       "       [5.66700000e+03, 0.00000000e+00],\n",
       "       [3.50000000e+03, 0.00000000e+00],\n",
       "       [2.77300000e+03, 1.00000000e+00],\n",
       "       [6.50000000e+03, 1.00000000e+00],\n",
       "       [5.76900000e+03, 1.00000000e+00],\n",
       "       [3.63400000e+03, 0.00000000e+00],\n",
       "       [2.91670000e+04, 1.00000000e+00],\n",
       "       [2.16600000e+03, 1.00000000e+00],\n",
       "       [5.00000000e+03, 1.00000000e+00],\n",
       "       [5.53000000e+03, 8.25443787e-01],\n",
       "       [9.00000000e+03, 1.00000000e+00],\n",
       "       [1.00000000e+04, 1.00000000e+00],\n",
       "       [8.75000000e+03, 1.00000000e+00],\n",
       "       [2.15700000e+03, 8.25443787e-01],\n",
       "       [1.97200000e+03, 1.00000000e+00],\n",
       "       [4.98300000e+03, 1.00000000e+00],\n",
       "       [8.33300000e+03, 1.00000000e+00],\n",
       "       [3.66700000e+03, 1.00000000e+00],\n",
       "       [3.16600000e+03, 1.00000000e+00],\n",
       "       [3.27100000e+03, 1.00000000e+00],\n",
       "       [2.24100000e+03, 0.00000000e+00],\n",
       "       [1.79200000e+03, 1.00000000e+00],\n",
       "       [2.66600000e+03, 1.00000000e+00],\n",
       "       [6.47800000e+03, 1.00000000e+00],\n",
       "       [3.80800000e+03, 1.00000000e+00],\n",
       "       [3.72900000e+03, 1.00000000e+00],\n",
       "       [4.12000000e+03, 1.00000000e+00],\n",
       "       [7.50000000e+03, 1.00000000e+00],\n",
       "       [6.30000000e+03, 0.00000000e+00],\n",
       "       [1.49870000e+04, 1.00000000e+00],\n",
       "       [5.70000000e+02, 1.00000000e+00],\n",
       "       [2.60000000e+03, 1.00000000e+00],\n",
       "       [2.73300000e+03, 8.25443787e-01],\n",
       "       [7.50000000e+03, 1.00000000e+00],\n",
       "       [3.85900000e+03, 1.00000000e+00],\n",
       "       [6.82500000e+03, 1.00000000e+00],\n",
       "       [3.70800000e+03, 1.00000000e+00],\n",
       "       [5.31400000e+03, 1.00000000e+00],\n",
       "       [2.36600000e+03, 0.00000000e+00],\n",
       "       [2.06600000e+03, 1.00000000e+00],\n",
       "       [5.00000000e+03, 1.00000000e+00],\n",
       "       [3.76700000e+03, 1.00000000e+00],\n",
       "       [7.85900000e+03, 1.00000000e+00],\n",
       "       [4.28300000e+03, 1.00000000e+00],\n",
       "       [1.70000000e+03, 0.00000000e+00],\n",
       "       [4.76800000e+03, 1.00000000e+00],\n",
       "       [3.08300000e+03, 1.00000000e+00],\n",
       "       [2.66700000e+03, 1.00000000e+00],\n",
       "       [1.64700000e+03, 1.00000000e+00],\n",
       "       [3.40000000e+03, 1.00000000e+00],\n",
       "       [1.60000000e+04, 1.00000000e+00],\n",
       "       [5.33300000e+03, 1.00000000e+00],\n",
       "       [2.87500000e+03, 0.00000000e+00],\n",
       "       [2.60000000e+03, 1.00000000e+00],\n",
       "       [5.04100000e+03, 1.00000000e+00],\n",
       "       [6.95800000e+03, 1.00000000e+00],\n",
       "       [3.50000000e+03, 8.25443787e-01],\n",
       "       [5.50900000e+03, 1.00000000e+00],\n",
       "       [9.69900000e+03, 1.00000000e+00],\n",
       "       [3.62100000e+03, 1.00000000e+00],\n",
       "       [4.70900000e+03, 1.00000000e+00],\n",
       "       [1.51600000e+03, 1.00000000e+00],\n",
       "       [2.40000000e+03, 1.00000000e+00],\n",
       "       [3.01500000e+03, 8.25443787e-01],\n",
       "       [2.29200000e+03, 1.00000000e+00],\n",
       "       [2.36000000e+03, 1.00000000e+00],\n",
       "       [4.33300000e+03, 0.00000000e+00],\n",
       "       [2.62300000e+03, 1.00000000e+00],\n",
       "       [3.97200000e+03, 1.00000000e+00],\n",
       "       [3.52200000e+03, 1.00000000e+00],\n",
       "       [4.70000000e+03, 1.00000000e+00],\n",
       "       [6.85800000e+03, 1.00000000e+00],\n",
       "       [8.33400000e+03, 1.00000000e+00],\n",
       "       [3.39100000e+03, 0.00000000e+00],\n",
       "       [2.86800000e+03, 1.00000000e+00],\n",
       "       [3.41800000e+03, 1.00000000e+00],\n",
       "       [2.50000000e+03, 1.00000000e+00],\n",
       "       [8.66700000e+03, 1.00000000e+00],\n",
       "       [2.28300000e+03, 8.25443787e-01],\n",
       "       [5.81700000e+03, 1.00000000e+00],\n",
       "       [5.11900000e+03, 1.00000000e+00],\n",
       "       [5.31600000e+03, 0.00000000e+00],\n",
       "       [7.60300000e+03, 1.00000000e+00],\n",
       "       [3.79100000e+03, 1.00000000e+00],\n",
       "       [2.50000000e+03, 1.00000000e+00],\n",
       "       [3.13200000e+03, 8.25443787e-01],\n",
       "       [4.00000000e+03, 1.00000000e+00],\n",
       "       [8.55000000e+03, 8.25443787e-01],\n",
       "       [2.26900000e+03, 1.00000000e+00],\n",
       "       [4.00900000e+03, 1.00000000e+00],\n",
       "       [4.15800000e+03, 1.00000000e+00],\n",
       "       [3.25000000e+03, 8.25443787e-01],\n",
       "       [5.00000000e+03, 1.00000000e+00],\n",
       "       [9.20000000e+03, 1.00000000e+00]])"
      ]
     },
     "execution_count": 69,
     "metadata": {},
     "output_type": "execute_result"
    }
   ],
   "source": [
    "X"
   ]
  },
  {
   "cell_type": "code",
   "execution_count": 77,
   "metadata": {},
   "outputs": [
    {
     "data": {
      "text/plain": [
       "<matplotlib.collections.PathCollection at 0x2a58e314fd0>"
      ]
     },
     "execution_count": 77,
     "metadata": {},
     "output_type": "execute_result"
    },
    {
     "data": {
      "image/png": "[encoded data removed]",
      "text/plain": [
       "<Figure size 1080x576 with 1 Axes>"
      ]
     },
     "metadata": {
      "needs_background": "light"
     },
     "output_type": "display_data"
    }
   ],
   "source": [
    "fig = plt.figure(figsize = (15,8))\n",
    "plt.scatter(X[preds==0,0],X[preds==0,1],s=100,c='magenta')\n",
    "plt.scatter(X[preds==1,0],X[preds==1,1],s=100,c='blue')\n",
    "plt.scatter(X[preds==2,0],X[preds==2,1],s=100,c='green')\n",
    "plt.scatter(X[preds==3,0],X[preds==3,1],s=100,c='cyan')\n"
   ]
  },
  {
   "cell_type": "code",
   "execution_count": 75,
   "metadata": {},
   "outputs": [
    {
     "data": {
      "text/plain": [
       "<matplotlib.axes._subplots.AxesSubplot at 0x2a58e539eb8>"
      ]
     },
     "execution_count": 75,
     "metadata": {},
     "output_type": "execute_result"
    },
    {
     "data": {
      "image/png": "[encoded data removed]",
      "text/plain": [
       "<Figure size 432x288 with 1 Axes>"
      ]
     },
     "metadata": {
      "needs_background": "light"
     },
     "output_type": "display_data"
    }
   ],
   "source": [
    "sns.scatterplot(df['ApplicantIncome'],df['Credit_History'], hue=preds, palette='viridis')"
   ]
  }
 ],
 "metadata": {
  "kernelspec": {
   "display_name": "Python 3",
   "language": "python",
   "name": "python3"
  },
  "language_info": {
   "codemirror_mode": {
    "name": "ipython",
    "version": 3
   },
   "file_extension": ".py",
   "mimetype": "text/x-python",
   "name": "python",
   "nbconvert_exporter": "python",
   "pygments_lexer": "ipython3",
   "version": "3.7.3"
  }
 },
 "nbformat": 4,
 "nbformat_minor": 2
}
